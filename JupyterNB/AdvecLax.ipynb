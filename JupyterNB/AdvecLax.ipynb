{
 "cells": [
  {
   "cell_type": "code",
   "execution_count": 3,
   "metadata": {
    "collapsed": false,
    "deletable": true,
    "editable": true
   },
   "outputs": [
    {
     "data": {
      "text/html": [
       "<div id=\"glowscript\" class=\"glowscript\"></div>"
      ],
      "text/plain": [
       "<IPython.core.display.HTML object>"
      ]
     },
     "metadata": {},
     "output_type": "display_data"
    },
    {
     "data": {
      "application/javascript": [
       "if (typeof Jupyter !== \"undefined\") { window.__context = { glowscript_container: $(\"#glowscript\").removeAttr(\"id\")};}else{ element.textContent = ' ';}"
      ],
      "text/plain": [
       "<IPython.core.display.Javascript object>"
      ]
     },
     "metadata": {},
     "output_type": "display_data"
    },
    {
     "data": {
      "application/javascript": [
       "if (typeof Jupyter !== \"undefined\") {require.undef(\"nbextensions/vpython_libraries/glow.min\");}else{element.textContent = ' ';}"
      ],
      "text/plain": [
       "<IPython.core.display.Javascript object>"
      ]
     },
     "metadata": {},
     "output_type": "display_data"
    },
    {
     "data": {
      "application/javascript": [
       "if (typeof Jupyter !== \"undefined\") {require.undef(\"nbextensions/vpython_libraries/glowcomm\");}else{element.textContent = ' ';}"
      ],
      "text/plain": [
       "<IPython.core.display.Javascript object>"
      ]
     },
     "metadata": {},
     "output_type": "display_data"
    },
    {
     "data": {
      "application/javascript": [
       "if (typeof Jupyter !== \"undefined\") {require.undef(\"nbextensions/vpython_libraries/jquery-ui.custom.min\");}else{element.textContent = ' ';}"
      ],
      "text/plain": [
       "<IPython.core.display.Javascript object>"
      ]
     },
     "metadata": {},
     "output_type": "display_data"
    },
    {
     "data": {
      "application/javascript": [
       "if (typeof Jupyter !== \"undefined\") {require([\"nbextensions/vpython_libraries/glow.min\"], function(){console.log(\"GLOW LOADED\");});}else{element.textContent = ' ';}"
      ],
      "text/plain": [
       "<IPython.core.display.Javascript object>"
      ]
     },
     "metadata": {},
     "output_type": "display_data"
    },
    {
     "data": {
      "application/javascript": [
       "if (typeof Jupyter !== \"undefined\") {require([\"nbextensions/vpython_libraries/glowcomm\"], function(){console.log(\"GLOWCOMM LOADED\");});}else{element.textContent = ' ';}"
      ],
      "text/plain": [
       "<IPython.core.display.Javascript object>"
      ]
     },
     "metadata": {},
     "output_type": "display_data"
    },
    {
     "data": {
      "application/javascript": [
       "if (typeof Jupyter !== \"undefined\") {require([\"nbextensions/vpython_libraries/jquery-ui.custom.min\"], function(){console.log(\"JQUERY LOADED\");});}else{element.textContent = ' ';}"
      ],
      "text/plain": [
       "<IPython.core.display.Javascript object>"
      ]
     },
     "metadata": {},
     "output_type": "display_data"
    }
   ],
   "source": [
    "\"\"\" From \"COMPUTATIONAL PHYSICS\" & \"COMPUTER PROBLEMS in PHYSICS\"\n",
    "    by RH Landau, MJ Paez, and CC Bordeianu (deceased)\n",
    "    Copyright R Landau, Oregon State Unv, MJ Paez, Univ Antioquia, \n",
    "    C Bordeianu, Univ Bucharest, 2020. \n",
    "    Please respect copyright & acknowledge our work.\"\"\"\n",
    "\t \n",
    "# AdvecLax.py:      Solve advection eqnt via Lax-Wendroff scheme\n",
    "# du/dt+ c*d(u**2/2)/dx=0;   u(x,t=0)=exp(-300(x-0.12)**2)  \n",
    "\n",
    "from vpython import *\n",
    "m = 100                                       # No steps in x \n",
    "c = 1.;     dx = 1./m;    beta = 0.8          # beta = c*dt/dx\n",
    "u = [0]*(m+1);                                # Initial Numeric   \n",
    "u0 = [0]*(m+1);\n",
    "uf = [0]*(m+1)    \n",
    "dt = beta*dx/c;\n",
    "T_final = 0.5;\n",
    "n = int(T_final/dt)                             # N time steps\n",
    "\n",
    "graph1 = graph(width=600, height=500, xtitle = 'x', xmin=0,xmax=1,\n",
    "        ymin=0, ymax=1, ytitle = 'u(x), Cyan=exact, Yellow=Numerical', \n",
    "        title='Advect Eqn: Initial (red), Exact (cyan),Numerical (yellow)')\n",
    "initfn = gcurve(color = color.red);\n",
    "exactfn = gcurve(color = color.cyan)\n",
    "numfn = gcurve(color = color.yellow)       # Numerical solution\n",
    "\n",
    "def plotIniExac():               # Plot initial & exact solution\n",
    "   for i in range(0, m):                     \n",
    "      x = i*dx \n",
    "      u0[i] = exp(-300.* (x - 0.12)**2)      # Gaussian initial\n",
    "      initfn.plot(pos = (0.01*i, u0[i]) )     # Initial function\n",
    "      uf[i] = exp(-300.*(x - 0.12 - c*T_final)**2) # Exact = cyan\n",
    "      exactfn.plot(pos = (0.01*i, uf[i]) )\n",
    "      rate(50)\n",
    "plotIniExac()\n",
    "\n",
    "def numerical():                # Finds Lax Wendroff solution\n",
    "  for j in range(0, n+1):                       #  Time loop               \n",
    "    for i in range(0, m - 1):                     #   x loop\n",
    "        u[i + 1] = (1.-beta*beta)*u0[i+1]-(0.5*beta)*(1.-beta)*u0[i+2] \\\n",
    "                    +(0.5*beta)*(1. + beta)*u0[i]   # Algorithm\n",
    "        u[0] = 0.;     u[m-1] = 0.;    u0[i] = u[i]           \n",
    "numerical()                   \n",
    "for j in range(0, m-1 ):\n",
    "    rate(50)\n",
    "    numfn.plot(pos = (0.01*j, u[j]) )        # Plot numeric soltn"
   ]
  },
  {
   "cell_type": "code",
   "execution_count": null,
   "metadata": {
    "collapsed": true,
    "deletable": true,
    "editable": true
   },
   "outputs": [],
   "source": []
  }
 ],
 "metadata": {
  "kernelspec": {
   "display_name": "Python 2",
   "language": "python",
   "name": "python2"
  },
  "language_info": {
   "codemirror_mode": {
    "name": "ipython",
    "version": 2
   },
   "file_extension": ".py",
   "mimetype": "text/x-python",
   "name": "python",
   "nbconvert_exporter": "python",
   "pygments_lexer": "ipython2",
   "version": "2.7.13"
  }
 },
 "nbformat": 4,
 "nbformat_minor": 2
}
