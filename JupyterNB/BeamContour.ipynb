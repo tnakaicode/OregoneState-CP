{
 "cells": [
  {
   "cell_type": "code",
   "execution_count": 1,
   "metadata": {
    "collapsed": false,
    "deletable": true,
    "editable": true
   },
   "outputs": [
    {
     "name": "stdout",
     "output_type": "stream",
     "text": [
      "Working, wait for the figure, count to 30\n"
     ]
    }
   ],
   "source": [
    "\"\"\" From \"COMPUTATIONAL PHYSICS\" & \"COMPUTER PROBLEMS in PHYSICS\"\n",
    "    by RH Landau, MJ Paez, and CC Bordeianu (deceased)\n",
    "    Copyright R Landau, Oregon State Unv, MJ Paez, Univ Antioquia, \n",
    "    C Bordeianu, Univ Bucharest, 2020. \n",
    "    Please respect copyright & acknowledge our work.\"\"\"\n",
    "    \n",
    "# Beam.py: solves Navier-Stokes equation for the flow around a beam\n",
    "\n",
    "from numpy import *                                    # Needed for range\n",
    "import pylab as p\n",
    "from mpl_toolkits.mplot3d import Axes3D ;\n",
    "from matplotlib import image;\n",
    "\n",
    "Nxmax = 70\n",
    "Nymax = 20;                                              # Grid parameters\n",
    "u = zeros((Nxmax + 1,Nymax + 1),float)                   # Stream \n",
    "w = zeros((Nxmax + 1,Nymax + 1),float)                   # Vorticity\n",
    "V0 = 1.0                                                 # Initial v\n",
    "omega = 0.1                                              # Relaxation param\n",
    "IL = 10                                                  # Geometry      \n",
    "H = 8\n",
    "T = 8          \n",
    "h = 1.\n",
    "nu = 1.                                                   # Viscosity\n",
    "iter = 0                                                  # Number iterations\n",
    "R = V0*h/nu                                  # Reynold number, normal units\n",
    "print(\"Working, wait for the figure, count to 30\")"
   ]
  },
  {
   "cell_type": "code",
   "execution_count": 2,
   "metadata": {
    "collapsed": false,
    "deletable": true,
    "editable": true
   },
   "outputs": [
    {
     "name": "stdout",
     "output_type": "stream",
     "text": [
      "0\n",
      "1\n",
      "2\n",
      "3\n",
      "4\n",
      "5\n",
      "6\n",
      "7\n",
      "8\n",
      "9\n",
      "10\n",
      "11\n",
      "12\n",
      "13\n",
      "14\n",
      "15\n",
      "16\n",
      "17\n",
      "18\n",
      "19\n",
      "20\n",
      "21\n",
      "22\n",
      "23\n",
      "24\n",
      "25\n",
      "26\n",
      "27\n",
      "28\n",
      "29\n"
     ]
    },
    {
     "data": {
      "image/png": "[encoded data removed]",
      "text/plain": [
       "<Figure size 432x288 with 2 Axes>"
      ]
     },
     "metadata": {
      "needs_background": "light"
     },
     "output_type": "display_data"
    },
    {
     "data": {
      "image/png": "[encoded data removed]",
      "text/plain": [
       "<Figure size 432x288 with 2 Axes>"
      ]
     },
     "metadata": {
      "needs_background": "light"
     },
     "output_type": "display_data"
    },
    {
     "name": "stdout",
     "output_type": "stream",
     "text": [
      "finished\n"
     ]
    }
   ],
   "source": [
    "\n",
    "def borders():                        # Initialize stream,vorticity, sets BC\n",
    "    for i in range(0, Nxmax+1):                # Initialize stream function\n",
    "       for j in range(0, Nymax+1 ):                        # Init vorticity\n",
    "            w[i,j] = 0.\n",
    "            u[i,j] = j*V0\n",
    "    for i in range(0,Nxmax+1 ):                             # Fluid surface\n",
    "      u[i,Nymax] = u[i,Nymax-1] + V0*h\n",
    "      w[i,Nymax-1] = 0.  \n",
    "    for j in range(0,Nymax+1 ):\n",
    "        u[1,j] = u[0,j]\n",
    "        w[0,j] = 0.                                                  # Inlet\n",
    "    for  i in range(0,Nxmax+1 ):                               # Centerline\n",
    "       if i <= IL and i>=IL + T:\n",
    "           u[i,0] = 0.\n",
    "           w[i,0] = 0. \n",
    "    for j in range(1, Nymax ):                                      # Outlet\n",
    "        w[Nxmax,j] = w[Nxmax-1,j] \n",
    "        u[Nxmax,j] = u[Nxmax-1,j]                                 #  Borders\n",
    "\n",
    "def beam():                                                 # BC for the beam\n",
    "   for  j in range (0, H+1):                                     # Beam sides\n",
    "      w[IL,j]=-2*u[IL-1,j]/(h*h)                                 # Front side\n",
    "      w[IL + T,j]=-2*u[IL + T + 1,j]/(h*h)                        # Back side\n",
    "   for  i in range(IL,IL + T+1):\n",
    "       w[i,H-1] = -2*u[i,H]/(h*h);                                     # Top\n",
    "   for i in range(IL, IL + T+1 ):\n",
    "     for j in range(0,H+1):\n",
    "         u[IL,j] = 0.                                               # Front\n",
    "         u[IL + T,j] = 0.                                            # Back\n",
    "         u[i,H] = 0;                                                  # Top\n",
    "         \n",
    "def relax():                                         # Method to relax stream\n",
    "    beam()                                         # Reset conditions at beam\n",
    "    for  i in range(1, Nxmax):                        # Relax stream function\n",
    "      for  j in range (1, Nymax):\n",
    "        r1 = omega*((u[i+1,j]+u[i-1,j]+u[i,j+1]+u[i,j-1]+h*h*w[i,j])/4 -u[i,j]) \n",
    "        u[i,j] += r1   \n",
    "    for  i in range(1, Nxmax):              # Relax vorticity\n",
    "      for j in range(1,Nymax):\n",
    "          a1 = w[i + 1,j] + w[i-1,j] + w[i,j + 1]+w[i,j-1]\n",
    "          a2 = (u[i,j + 1]-u[i,j-1])*(w[i + 1,j]-w[i-1,j])\n",
    "          a3 = (u[i + 1,j]-u[i-1,j])*(w[i,j+1]-w[i,j-1])\n",
    "          r2 = omega*((a1-(R/4.)*(a2-a3))/4.0 -w[i,j])\n",
    "          w[i,j]  += r2\n",
    "\n",
    "m = 0\n",
    "borders()\n",
    "while (iter <= 300):\n",
    "    iter += 1\n",
    "    if iter%10 == 0:\n",
    "        print(m)\n",
    "        m += 1\n",
    "    relax()\n",
    "for  i in range (0, Nxmax+1):\n",
    "   \n",
    "    for  j in range(0,Nymax+1 ):   \n",
    "        u[i,j] = u[i,j]/(V0*h)    #stream in V0h units\n",
    "#u.resize((70,70));\n",
    "#w.resize((70,70));\n",
    "x=list(range(0,Nxmax-1))                   #to plot lines in x axis\n",
    "y=list(range(0,Nymax-1))\n",
    "#x=range(0,69)                   #to plot lines in x axis\n",
    "#y=range(0,69)\n",
    "X,Y=p.meshgrid(x,y)                  #grid for position and time\n",
    "\n",
    "def functz(u):                       #returns stream flow to plot\n",
    "    z = u[X,Y]                         #for several iterations\n",
    "    return z\n",
    "\n",
    "def functz1(w):                       #returns stream flow to plot\n",
    "    z1 = w[X,Y]                         #for several iterations\n",
    "    return z1\n",
    "    \n",
    "Z = functz(u)\n",
    "Z1 = functz1(w)\n",
    "fig1 = p.figure()\n",
    "p.title('Stream function - 2D Flow over a beam')\n",
    "p.imshow(Z, origin='lower');\n",
    "p.colorbar();\n",
    "fig2=p.figure()\n",
    "p.title('Vorticity - 2D Flow over a beam')\n",
    "p.imshow(Z1, origin='lower');\n",
    "p.colorbar();\n",
    "p.show()                             # Shows the figure, close Python shell to\n",
    "                                    # Finish watching the figure       \n",
    "print(\"finished\")        "
   ]
  },
  {
   "cell_type": "code",
   "execution_count": null,
   "metadata": {
    "collapsed": true,
    "deletable": true,
    "editable": true
   },
   "outputs": [],
   "source": []
  }
 ],
 "metadata": {
  "kernelspec": {
   "display_name": "Python 2",
   "language": "python",
   "name": "python2"
  },
  "language_info": {
   "codemirror_mode": {
    "name": "ipython",
    "version": 2
   },
   "file_extension": ".py",
   "mimetype": "text/x-python",
   "name": "python",
   "nbconvert_exporter": "python",
   "pygments_lexer": "ipython2",
   "version": "2.7.13"
  }
 },
 "nbformat": 4,
 "nbformat_minor": 2
}
