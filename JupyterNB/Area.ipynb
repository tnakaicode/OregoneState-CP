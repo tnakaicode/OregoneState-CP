{
 "cells": [
  {
   "cell_type": "code",
   "execution_count": 1,
   "metadata": {
    "collapsed": false,
    "deletable": true,
    "editable": true
   },
   "outputs": [
    {
     "name": "stdout",
     "output_type": "stream",
     "text": [
      "Program number = 1 \n",
      " r, C, A =  1.0 6.283185307179586 3.141592653589793\n"
     ]
    },
    {
     "data": {
      "text/plain": [
       "' Expected OUTPUT\\nProgram number =  1\\nr, C, A =  1.0 6.283185307179586 3.141592653589793'"
      ]
     },
     "execution_count": 1,
     "metadata": {},
     "output_type": "execute_result"
    }
   ],
   "source": [
    "\"\"\" From \"COMPUTATIONAL PHYSICS\" & \"COMPUTER PROBLEMS in PHYSICS\"\n",
    "    by RH Landau, MJ Paez, and CC Bordeianu (deceased)\n",
    "    Copyright R Landau, Oregon State Unv, MJ Paez, Univ Antioquia, \n",
    "    C Bordeianu, Univ Bucharest, 2020. \n",
    "    Please respect copyright & acknowledge our work.\"\"\"                     \n",
    "\n",
    "# Area.py: Area of a circle, simple program\n",
    "from math import pi\n",
    "\n",
    "N = 1\n",
    "r = 1.\n",
    "C = 2.* pi* r \n",
    "A = pi * r**2 \n",
    "\n",
    "print ('Program number =', N, '\\n r, C, A = ', r, C, A)\n",
    " \n",
    "\n",
    "\"\"\" Expected OUTPUT\n",
    "Program number =  1\n",
    "r, C, A =  1.0 6.283185307179586 3.141592653589793\"\"\""
   ]
  },
  {
   "cell_type": "code",
   "execution_count": null,
   "metadata": {
    "collapsed": true,
    "deletable": true,
    "editable": true
   },
   "outputs": [],
   "source": []
  }
 ],
 "metadata": {
  "kernelspec": {
   "display_name": "Python 2",
   "language": "python",
   "name": "python2"
  },
  "language_info": {
   "codemirror_mode": {
    "name": "ipython",
    "version": 2
   },
   "file_extension": ".py",
   "mimetype": "text/x-python",
   "name": "python",
   "nbconvert_exporter": "python",
   "pygments_lexer": "ipython2",
   "version": "2.7.13"
  }
 },
 "nbformat": 4,
 "nbformat_minor": 2
}
