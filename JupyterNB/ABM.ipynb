{
 "cells": [
  {
   "cell_type": "code",
   "execution_count": 1,
   "metadata": {},
   "outputs": [
    {
     "ename": "ModuleNotFoundError",
     "evalue": "No module named 'vpython'",
     "output_type": "error",
     "traceback": [
      "\u001b[1;31m---------------------------------------------------------------------------\u001b[0m",
      "\u001b[1;31mModuleNotFoundError\u001b[0m                       Traceback (most recent call last)",
      "\u001b[1;32m<ipython-input-1-3713cf7ceedf>\u001b[0m in \u001b[0;36m<module>\u001b[1;34m\u001b[0m\n\u001b[0;32m      8\u001b[0m \u001b[1;31m# Solves y' = (t - y)/2,    with y[0] = 1 over [0, 3]\u001b[0m\u001b[1;33m\u001b[0m\u001b[1;33m\u001b[0m\u001b[1;33m\u001b[0m\u001b[0m\n\u001b[0;32m      9\u001b[0m \u001b[1;33m\u001b[0m\u001b[0m\n\u001b[1;32m---> 10\u001b[1;33m \u001b[1;32mfrom\u001b[0m \u001b[0mvpython\u001b[0m \u001b[1;32mimport\u001b[0m \u001b[1;33m*\u001b[0m\u001b[1;33m\u001b[0m\u001b[1;33m\u001b[0m\u001b[0m\n\u001b[0m\u001b[0;32m     11\u001b[0m \u001b[1;33m\u001b[0m\u001b[0m\n\u001b[0;32m     12\u001b[0m numgr = graph(x=0, y=0, width=600, height=300, xmin=0.0, xmax = 3.0,\n",
      "\u001b[1;31mModuleNotFoundError\u001b[0m: No module named 'vpython'"
     ]
    }
   ],
   "source": [
    "\"\"\" From \"COMPUTATIONAL PHYSICS\" & \"COMPUTER PROBLEMS in PHYSICS\"\n",
    "    by RH Landau, MJ Paez, and CC Bordeianu (deceased)\n",
    "    Copyright R Landau, Oregon State Unv, MJ Paez, Univ Antioquia, \n",
    "    C Bordeianu (deceased), Univ Bucharest, 2020. \n",
    "    Please respect copyright & acknowledge our work.\"\"\"\n",
    "\n",
    "# ABM.py:   Adams BM method to integrate ODE\n",
    "# Solves y' = (t - y)/2,    with y[0] = 1 over [0, 3]\n",
    "\n",
    "from vpython import *\n",
    "\n",
    "numgr = graph(x=0, y=0, width=600, height=300, xmin=0.0, xmax = 3.0,\n",
    "          title=\"Numerical Solution\", xtitle='t', ytitle='y', ymax=2., ymin=0)\n",
    "numsol = gcurve(color=color.red)\n",
    "exactgr = graph(x=0, y=300, width=600, height=300, title=\"Exact solution\",\n",
    "            xtitle='t', ytitle='y', xmax=3.0, xmin=0.0, ymax=2.0, ymin=0)\n",
    "\n",
    "exsol =gcurve (color = color.cyan)\n",
    "n = 24                                                 # N steps > 3\n",
    "A = 0; B = 3.                                           \n",
    "t =[0]*500;     y =[0]*500;     yy=[0]*4     "
   ]
  },
  {
   "cell_type": "code",
   "execution_count": 2,
   "metadata": {
    "collapsed": true,
    "deletable": true,
    "editable": true
   },
   "outputs": [],
   "source": [
    "\n",
    "                        \n",
    "def f(t, y):                                      # RHS F function\n",
    "    return  (t - y)/2.0\n",
    "\n",
    "def rk4(t, yy, h1):             \n",
    "    for i in range(0, 3):\n",
    "        t  = h1 * i\n",
    "        k0 = h1 * f(t, y[i])\n",
    "        k1 = h1 * f(t + h1/2., yy[i] + k0/2.)\n",
    "        k2 = h1 * f(t + h1/2., yy[i] + k1/2.)\n",
    "        k3 = h1 * f(t + h1, yy[i] + k2 )\n",
    "        yy[i + 1] = yy[i]  +  (1./6.) * (k0  +  2.*k1  +  2.*k2 + k3)\n",
    "        #print(i,yy[ i])\n",
    "    return yy[3]\n",
    "\n",
    "def ABM(a,b,N):\n",
    "# Compute 3 additional starting values using rk\n",
    "   h = (b-a) / N                          # step\n",
    "   t[0] = a;    y[0] = 1.00;    F0  = f(t[0], y[0])\n",
    "   for k in range(1, 4):                   \n",
    "      t[k] = a  +  k * h\n",
    "   y[1]  = rk4(t[1], y, h)                      # 1st step\n",
    "   y[2]  = rk4(t[2], y, h)                      # 2nd step\n",
    "   y[3] = rk4(t[3], y, h)                       # 3rd step\n",
    "   F1 = f(t[1], y[1])        \n",
    "   F2 = f(t[2], y[2])        \n",
    "   F3 = f(t[3], y[3])\n",
    "   h2 = h/24.\n",
    "\n",
    "   for k in range(3, N):                               # Predictor\n",
    "      p = y[k]  +  h2*(-9.*F0  +  37.*F1 - 59.*F2 + 55.*F3)\n",
    "      t[k + 1] = a + h*(k+1)                       # Next abscissa\n",
    "      F4 = f(t[k+1], p)                        \n",
    "      y[k+1] = y[k] + h2*(F1-5.*F2 + 19.*F3 + 9.*F4)   # Corrector\n",
    "      F0 = F1                                     # Update values\n",
    "      F1 = F2\n",
    "      F2 = F3\n",
    "      F3 = f(t[k + 1], y[k + 1])\n",
    "   return t,y\n",
    "\n",
    "#print(\"  k     t      Y numerical      Y exact\")\n",
    "t, y = ABM(A,B,n)\n",
    "for k in range(0, n+1):\n",
    "    #print (\" %3d  %5.3f  %12.11f  %12.11f \" %(k,t[k],y[k],(3.*exp(-t[k]/2.)-2.+t[k])))\n",
    "    numsol.plot( t[k], y[k] )\n",
    "    exsol.plot( t[k], 3.*exp(-t[k]/2.) -2. + t[k])"
   ]
  },
  {
   "cell_type": "code",
   "execution_count": null,
   "metadata": {
    "collapsed": true,
    "deletable": true,
    "editable": true
   },
   "outputs": [],
   "source": []
  }
 ],
 "metadata": {
  "kernelspec": {
   "display_name": "Python 3.7.6 64-bit ('base': conda)",
   "language": "python",
   "name": "python37664bitbasecondad50904c4833944d78ec240a33fe4e7d3"
  },
  "language_info": {
   "codemirror_mode": {
    "name": "ipython",
    "version": 2
   },
   "file_extension": ".py",
   "mimetype": "text/x-python",
   "name": "python",
   "nbconvert_exporter": "python",
   "pygments_lexer": "ipython2",
   "version": "3.7.6-final"
  }
 },
 "nbformat": 4,
 "nbformat_minor": 2
}