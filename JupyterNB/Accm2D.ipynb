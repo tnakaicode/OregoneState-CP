{
 "cells": [
  {
   "cell_type": "code",
   "execution_count": 2,
   "metadata": {
    "collapsed": false,
    "deletable": true,
    "editable": true
   },
   "outputs": [
    {
     "data": {
      "text/html": [
       "<div id=\"glowscript\" class=\"glowscript\"></div>"
      ],
      "text/plain": [
       "<IPython.core.display.HTML object>"
      ]
     },
     "metadata": {},
     "output_type": "display_data"
    },
    {
     "data": {
      "application/javascript": [
       "if (typeof Jupyter !== \"undefined\") { window.__context = { glowscript_container: $(\"#glowscript\").removeAttr(\"id\")};}else{ element.textContent = ' ';}"
      ],
      "text/plain": [
       "<IPython.core.display.Javascript object>"
      ]
     },
     "metadata": {},
     "output_type": "display_data"
    },
    {
     "data": {
      "application/javascript": [
       "if (typeof Jupyter !== \"undefined\") {require.undef(\"nbextensions/vpython_libraries/glow.min\");}else{element.textContent = ' ';}"
      ],
      "text/plain": [
       "<IPython.core.display.Javascript object>"
      ]
     },
     "metadata": {},
     "output_type": "display_data"
    },
    {
     "data": {
      "application/javascript": [
       "if (typeof Jupyter !== \"undefined\") {require.undef(\"nbextensions/vpython_libraries/glowcomm\");}else{element.textContent = ' ';}"
      ],
      "text/plain": [
       "<IPython.core.display.Javascript object>"
      ]
     },
     "metadata": {},
     "output_type": "display_data"
    },
    {
     "data": {
      "application/javascript": [
       "if (typeof Jupyter !== \"undefined\") {require.undef(\"nbextensions/vpython_libraries/jquery-ui.custom.min\");}else{element.textContent = ' ';}"
      ],
      "text/plain": [
       "<IPython.core.display.Javascript object>"
      ]
     },
     "metadata": {},
     "output_type": "display_data"
    },
    {
     "data": {
      "application/javascript": [
       "if (typeof Jupyter !== \"undefined\") {require([\"nbextensions/vpython_libraries/glow.min\"], function(){console.log(\"GLOW LOADED\");});}else{element.textContent = ' ';}"
      ],
      "text/plain": [
       "<IPython.core.display.Javascript object>"
      ]
     },
     "metadata": {},
     "output_type": "display_data"
    },
    {
     "data": {
      "application/javascript": [
       "if (typeof Jupyter !== \"undefined\") {require([\"nbextensions/vpython_libraries/glowcomm\"], function(){console.log(\"GLOWCOMM LOADED\");});}else{element.textContent = ' ';}"
      ],
      "text/plain": [
       "<IPython.core.display.Javascript object>"
      ]
     },
     "metadata": {},
     "output_type": "display_data"
    },
    {
     "data": {
      "application/javascript": [
       "if (typeof Jupyter !== \"undefined\") {require([\"nbextensions/vpython_libraries/jquery-ui.custom.min\"], function(){console.log(\"JQUERY LOADED\");});}else{element.textContent = ' ';}"
      ],
      "text/plain": [
       "<IPython.core.display.Javascript object>"
      ]
     },
     "metadata": {},
     "output_type": "display_data"
    }
   ],
   "source": [
    "\"\"\" From \"COMPUTATIONAL PHYSICS\" & \"COMPUTER PROBLEMS in PHYSICS\"\n",
    "    by RH Landau, MJ Paez, and CC Bordeianu (deceased)\n",
    "    Copyright R Landau, Oregon State Unv, MJ Paez, Univ Antioquia, \n",
    "    C Bordeianu, Univ Bucharest, 2020. \n",
    "    Please respect copyright & acknowledge our work.\"\"\"  \n",
    "\n",
    "# Accmd.Py: Python accelerated motion in 2D\n",
    "\n",
    "from vpython import *              \n",
    "\n",
    "class Um1D:\n",
    "        \n",
    "    def __init__(self, x0, dt, vx0, ttot):            # class constructor\n",
    "        self.x00 = 0                                 # initial x position\n",
    "        self.delt = dt                                   # time increment\n",
    "        self.vx = vx0                                        # x velocity\n",
    "        self.time = ttot                                     # total time\n",
    "        self.steps = int(ttot/self.delt)             # total number steps\n",
    "        \n",
    "    def x(self, tt):                              # x position at time tt\n",
    "        return self.x00 + tt*self.vx\n",
    "    '''to be used in graphics'''\n",
    "    \n",
    "    def scenario(self, mxx, myy, mytitle, myxtitle, myytitle, xma, xmi, yma, ymi): \n",
    "        grafi = graph(x = mxx, y = myy, width = 500, height = 200, \n",
    "               title=mytitle, xtitle=myxtitle, ytitle=myytitle, xmax=xma,\n",
    "               xmin=xmi, ymax=yma, ymin=ymi, foreground = color.black,\n",
    "               background = color.white)\n",
    "        \n",
    "    def archive(self):                   # produce file, plot 1D x motion\n",
    "        unimotion1D = gcurve(color = color.blue)\n",
    "        tt = 0.0\n",
    "        f = open('unimot1D.dat', 'w')  # Disk file produced for 1D motion\n",
    "        for i in range (self.steps):\n",
    "            xx = self.x(tt)\n",
    "            unimotion1D.plot(pos = (tt, xx) )           # Plots x vs time\n",
    "            f.write(\" %f   %f\\n\"%(tt, xx) )             # x vs t for file\n",
    "            tt   += self.delt                             # increase time\n",
    "        f.closed                                        # close disk file\n",
    "'''Uniform motion in 2D''' \n",
    "\n",
    "class Um2D(Um1D):                                 # Um2D subclass of Um1D\n",
    "        \n",
    "    def __init__(self, x0, dt, vx0, ttot, y0, vy0):    # Constructor Um2D\n",
    "        Um1D.__init__(self, x0, dt, vx0, ttot)        # to construct Um1D\n",
    "        self.y00 = y0                            # initializes y position\n",
    "        self.vy = vy0                            # initializes y velocity\n",
    "        \n",
    "    def y(self, tt):                              # produces y at time tt\n",
    "        return self.y00 + tt*self.vy    \n",
    "        \n",
    "    def archive(self):                         # overrides archive for 1D\n",
    "        unimot2d = gcurve(color = color.magenta)\n",
    "        tt = 0.0\n",
    "        f = open('Um2D.dat', 'w')                   # Opens new Um2D file\n",
    "        for i in range (self.steps):\n",
    "            xx = self.x(tt)\n",
    "            yy = self.y(tt)\n",
    "            unimot2d.plot(pos = (xx, yy) )        # plots y vs x position\n",
    "            f.write(\" %f   %f\\n\"%(xx, yy) )       # writes x y in archive\n",
    "            tt   += self.delt \n",
    "        f.closed                                  # closes open Um2D file\n",
    "        \n",
    "'''Accelerated motion in 2D'''        \n",
    "class Accm2D(Um2D):                                    # Daugther of U21D\n",
    "    def __init__(self, x0, dt, vx0, ttot, y0, vy0, accx, accy): \n",
    "        Um2D.__init__(self, x0, dt, vx0, ttot, y0, vy0)# Um2D constructor\n",
    "        self.ax = accx                               # adds acceleretions\n",
    "        self.ay = accy                                    # to this class\n",
    "        \n",
    "    def xy(self, tt, i):\n",
    "        self.xxac = self.x(tt) + self.ax*tt**2\n",
    "        self.yyac = self.y(tt) + self.ay*tt**2\n",
    "        if(i == 1):                                # if acceleration in x\n",
    "          return self.xxac\n",
    "        else:\n",
    "          return self.yyac                         # if acceletation in y\n",
    "          \n",
    "    def archive(self):\n",
    "        acmotion = gcurve(color = color.red)\n",
    "        tt = 0.0\n",
    "        f = open('Accm2D.dat', 'w')\n",
    "        for i in range (self.steps):\n",
    "            self.xxac = self.xy(tt, 1)\n",
    "            self.yyac = self.xy(tt, 2)\n",
    "            f.write(\" %f   %f\\n\"%(self.xxac, self.yyac) )  # to disk file\n",
    "            acmotion.plot(pos = (self.xxac, self.yyac)) # plot acc. motion\n",
    "            tt=tt+ self.delt\n",
    "        f.closed\n",
    "\n",
    "# comment unmd um2d or myAcc to change plot        \n",
    "unmd = Um1D(0.0, 0.1, 2.0, 4.0)                       # x0, dt, vx0, ttot\n",
    "unmd.scenario(0, 0, 'Uniform motion in  1D ',     # for 1D uniform motion\n",
    "                 'time', 'x', 4.0, 0, 10.0, 0)  # For tmax tmin xmax xmin\n",
    "unmd.archive()                                               # archive 1D\n",
    "um2d = Um2D(0.0, 0.1, 2.0, 4.0, 0.0, 5.0)    # x0, dt, vx0, ttot, y0, vy0\n",
    "um2d.scenario(0, 200, 'Uniform motion in  2D ',   # for 2D uniform motion\n",
    "                 'x', 'y', 10.0, 0, 25.0, 0)        # xmx xmin  ymax ymin\n",
    "um2d.archive()                               # archive in two dim. motion\n",
    "myAcc = Accm2D(0.0, 0.1, 14.0, 4.0, 0.0, 14.0, 0.0,  - 9.8)\n",
    "myAcc.scenario(0, 400, 'Accelerated motion ', 'x', 'y', 55, 0, 5,-100.)\n",
    "myAcc.archive()                           # archive in accelerated motion"
   ]
  }
 ],
 "metadata": {
  "kernelspec": {
   "display_name": "Python 2",
   "language": "python",
   "name": "python2"
  },
  "language_info": {
   "codemirror_mode": {
    "name": "ipython",
    "version": 2
   },
   "file_extension": ".py",
   "mimetype": "text/x-python",
   "name": "python",
   "nbconvert_exporter": "python",
   "pygments_lexer": "ipython2",
   "version": "2.7.13"
  }
 },
 "nbformat": 4,
 "nbformat_minor": 2
}
